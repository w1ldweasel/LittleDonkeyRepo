{
 "cells": [
  {
   "cell_type": "code",
   "execution_count": 1,
   "metadata": {},
   "outputs": [],
   "source": [
    "import numpy as np\n",
    "import pandas as pd\n",
    "import string\n",
    "import random"
   ]
  },
  {
   "cell_type": "code",
   "execution_count": 3,
   "metadata": {},
   "outputs": [],
   "source": [
    "df = pd.read_csv('passwordlist\\\\adobe100.txt', encoding='iso-8859-1', header=None, names=['password'], sep='\\t')\n",
    "df['real'] = True"
   ]
  },
  {
   "cell_type": "code",
   "execution_count": 4,
   "metadata": {},
   "outputs": [],
   "source": [
    "# from: https://stackoverflow.com/questions/17315737/split-a-large-pandas-dataframe\n",
    "# input - df: a Dataframe, chunkSize: the chunk size\n",
    "# output - a list of DataFrame\n",
    "# purpose - splits the DataFrame into smaller of max size chunkSize (last is smaller)\n",
    "def split_data_frame(df, chunkSize = 10000): \n",
    "    listOfDf = list()\n",
    "    numberChunks = len(df) // chunkSize + 1\n",
    "    for i in range(numberChunks):\n",
    "        listOfDf.append(df[i*chunkSize:(i+1)*chunkSize])\n",
    "    return listOfDf"
   ]
  },
  {
   "cell_type": "code",
   "execution_count": 5,
   "metadata": {},
   "outputs": [],
   "source": [
    "# method to create a random password\n",
    "# this may create passwords that appear on the real password list, that's okay - a few isn't going to break it\n",
    "def password_generator(size=12, chars=string.punctuation + string.digits + string.ascii_letters):\n",
    "    return ''.join(random.choice(chars) for _ in range(size))"
   ]
  },
  {
   "cell_type": "code",
   "execution_count": 6,
   "metadata": {},
   "outputs": [],
   "source": [
    "# note this cell IS NOT idempotent, rerunning this cell will result in uneven split of fake:real passwords\n",
    "\n",
    "# create a set of fake passwords\n",
    "# join with the real passwords\n",
    "# shuffle the dataframe\n",
    "\n",
    "num_passwords = df['password'].count()\n",
    "rows_list = []\n",
    "\n",
    "for x in range(0, num_passwords):\n",
    "    new_row = {'real': False, 'password': password_generator(size=random.randint(1,32))}\n",
    "    rows_list.append(new_row)\n",
    "\n",
    "fake_passwords = pd.DataFrame(rows_list)\n",
    "df = pd.concat([df, fake_passwords])\n",
    "df['byte_array'] = df['password'].str.encode('ascii')\n",
    "df = df.sample(frac=1).reset_index(drop=True)"
   ]
  },
  {
   "cell_type": "code",
   "execution_count": 7,
   "metadata": {},
   "outputs": [],
   "source": [
    "# split the password list into the training and testing sets (80:20)\n",
    "sets = split_data_frame(df, int(df['password'].count() * 0.8))\n",
    "training_set = sets[0]\n",
    "testing_set = sets[1]"
   ]
  },
  {
   "cell_type": "code",
   "execution_count": 8,
   "metadata": {},
   "outputs": [],
   "source": [
    "#import tensorflow as tf\n",
    "#from tensorflow import keras\n",
    "#foreach($p in $(pip freeze)){ pip install -U $p.Split(\"=\")[0]}"
   ]
  },
  {
   "cell_type": "code",
   "execution_count": 10,
   "metadata": {},
   "outputs": [
    {
     "data": {
      "text/html": [
       "<div>\n",
       "<style scoped>\n",
       "    .dataframe tbody tr th:only-of-type {\n",
       "        vertical-align: middle;\n",
       "    }\n",
       "\n",
       "    .dataframe tbody tr th {\n",
       "        vertical-align: top;\n",
       "    }\n",
       "\n",
       "    .dataframe thead th {\n",
       "        text-align: right;\n",
       "    }\n",
       "</style>\n",
       "<table border=\"1\" class=\"dataframe\">\n",
       "  <thead>\n",
       "    <tr style=\"text-align: right;\">\n",
       "      <th></th>\n",
       "      <th>password</th>\n",
       "      <th>real</th>\n",
       "      <th>byte_array</th>\n",
       "    </tr>\n",
       "  </thead>\n",
       "  <tbody>\n",
       "    <tr>\n",
       "      <th>0</th>\n",
       "      <td>daniel</td>\n",
       "      <td>True</td>\n",
       "      <td>b'daniel'</td>\n",
       "    </tr>\n",
       "    <tr>\n",
       "      <th>1</th>\n",
       "      <td>:O2i'i(q)\"zPrb.L)v8Y%rV}n</td>\n",
       "      <td>False</td>\n",
       "      <td>b':O2i\\'i(q)\"zPrb.L)v8Y%rV}n'</td>\n",
       "    </tr>\n",
       "    <tr>\n",
       "      <th>2</th>\n",
       "      <td>(MgWvG</td>\n",
       "      <td>False</td>\n",
       "      <td>b'(MgWvG'</td>\n",
       "    </tr>\n",
       "    <tr>\n",
       "      <th>3</th>\n",
       "      <td>nv]</td>\n",
       "      <td>False</td>\n",
       "      <td>b'nv]'</td>\n",
       "    </tr>\n",
       "    <tr>\n",
       "      <th>4</th>\n",
       "      <td>letmein</td>\n",
       "      <td>True</td>\n",
       "      <td>b'letmein'</td>\n",
       "    </tr>\n",
       "  </tbody>\n",
       "</table>\n",
       "</div>"
      ],
      "text/plain": [
       "                    password   real                     byte_array\n",
       "0                     daniel   True                      b'daniel'\n",
       "1  :O2i'i(q)\"zPrb.L)v8Y%rV}n  False  b':O2i\\'i(q)\"zPrb.L)v8Y%rV}n'\n",
       "2                     (MgWvG  False                      b'(MgWvG'\n",
       "3                        nv]  False                         b'nv]'\n",
       "4                    letmein   True                     b'letmein'"
      ]
     },
     "execution_count": 10,
     "metadata": {},
     "output_type": "execute_result"
    }
   ],
   "source": [
    "training_set.head(5)"
   ]
  },
  {
   "cell_type": "code",
   "execution_count": null,
   "metadata": {},
   "outputs": [],
   "source": []
  },
  {
   "cell_type": "code",
   "execution_count": null,
   "metadata": {},
   "outputs": [],
   "source": []
  }
 ],
 "metadata": {
  "kernelspec": {
   "display_name": "Python 3",
   "language": "python",
   "name": "python3"
  },
  "language_info": {
   "codemirror_mode": {
    "name": "ipython",
    "version": 3
   },
   "file_extension": ".py",
   "mimetype": "text/x-python",
   "name": "python",
   "nbconvert_exporter": "python",
   "pygments_lexer": "ipython3",
   "version": "3.7.1"
  }
 },
 "nbformat": 4,
 "nbformat_minor": 2
}
